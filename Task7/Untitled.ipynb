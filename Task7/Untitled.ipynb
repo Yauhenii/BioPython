{
 "cells": [
  {
   "cell_type": "markdown",
   "metadata": {},
   "source": [
    "# Задание 1"
   ]
  },
  {
   "cell_type": "code",
   "execution_count": 74,
   "metadata": {},
   "outputs": [],
   "source": [
    "import pandas as pd\n",
    "\n",
    "def FM_index(s):\n",
    "    fm_index=[]\n",
    "    \n",
    "    alp=list(set(s))\n",
    "    alp.sort()\n",
    "    \n",
    "    fm_index.append([0]*len(alp))\n",
    "\n",
    "    for i in range(1,len(s)+1):\n",
    "        curr_row=fm_index[i-1].copy()\n",
    "        l_index=alp.index(s[i-1])\n",
    "        curr_row[l_index]+=1\n",
    "        fm_index.append(curr_row)\n",
    "        \n",
    "    ofst=[0]*len(alp)\n",
    "    for i in range(1,len(alp)):\n",
    "        ofst[i]=ofst[i-1]+fm_index[-1][i-1]\n",
    "    \n",
    "    pd_fm_index=pd.DataFrame(fm_index,columns=alp)\n",
    "    pd_ofst=pd.DataFrame([ofst],columns=alp)\n",
    "\n",
    "    return pd_fm_index, pd_ofst"
   ]
  },
  {
   "cell_type": "code",
   "execution_count": 75,
   "metadata": {},
   "outputs": [],
   "source": [
    "fm, ofst=FM_index(\"annb$aa\")"
   ]
  },
  {
   "cell_type": "code",
   "execution_count": 76,
   "metadata": {},
   "outputs": [
    {
     "data": {
      "text/html": [
       "<div>\n",
       "<style scoped>\n",
       "    .dataframe tbody tr th:only-of-type {\n",
       "        vertical-align: middle;\n",
       "    }\n",
       "\n",
       "    .dataframe tbody tr th {\n",
       "        vertical-align: top;\n",
       "    }\n",
       "\n",
       "    .dataframe thead th {\n",
       "        text-align: right;\n",
       "    }\n",
       "</style>\n",
       "<table border=\"1\" class=\"dataframe\">\n",
       "  <thead>\n",
       "    <tr style=\"text-align: right;\">\n",
       "      <th></th>\n",
       "      <th>$</th>\n",
       "      <th>a</th>\n",
       "      <th>b</th>\n",
       "      <th>n</th>\n",
       "    </tr>\n",
       "  </thead>\n",
       "  <tbody>\n",
       "    <tr>\n",
       "      <th>0</th>\n",
       "      <td>0</td>\n",
       "      <td>0</td>\n",
       "      <td>0</td>\n",
       "      <td>0</td>\n",
       "    </tr>\n",
       "    <tr>\n",
       "      <th>1</th>\n",
       "      <td>0</td>\n",
       "      <td>1</td>\n",
       "      <td>0</td>\n",
       "      <td>0</td>\n",
       "    </tr>\n",
       "    <tr>\n",
       "      <th>2</th>\n",
       "      <td>0</td>\n",
       "      <td>1</td>\n",
       "      <td>0</td>\n",
       "      <td>1</td>\n",
       "    </tr>\n",
       "    <tr>\n",
       "      <th>3</th>\n",
       "      <td>0</td>\n",
       "      <td>1</td>\n",
       "      <td>0</td>\n",
       "      <td>2</td>\n",
       "    </tr>\n",
       "    <tr>\n",
       "      <th>4</th>\n",
       "      <td>0</td>\n",
       "      <td>1</td>\n",
       "      <td>1</td>\n",
       "      <td>2</td>\n",
       "    </tr>\n",
       "    <tr>\n",
       "      <th>5</th>\n",
       "      <td>1</td>\n",
       "      <td>1</td>\n",
       "      <td>1</td>\n",
       "      <td>2</td>\n",
       "    </tr>\n",
       "    <tr>\n",
       "      <th>6</th>\n",
       "      <td>1</td>\n",
       "      <td>2</td>\n",
       "      <td>1</td>\n",
       "      <td>2</td>\n",
       "    </tr>\n",
       "    <tr>\n",
       "      <th>7</th>\n",
       "      <td>1</td>\n",
       "      <td>3</td>\n",
       "      <td>1</td>\n",
       "      <td>2</td>\n",
       "    </tr>\n",
       "  </tbody>\n",
       "</table>\n",
       "</div>"
      ],
      "text/plain": [
       "   $  a  b  n\n",
       "0  0  0  0  0\n",
       "1  0  1  0  0\n",
       "2  0  1  0  1\n",
       "3  0  1  0  2\n",
       "4  0  1  1  2\n",
       "5  1  1  1  2\n",
       "6  1  2  1  2\n",
       "7  1  3  1  2"
      ]
     },
     "execution_count": 76,
     "metadata": {},
     "output_type": "execute_result"
    }
   ],
   "source": [
    "fm "
   ]
  },
  {
   "cell_type": "code",
   "execution_count": 77,
   "metadata": {},
   "outputs": [
    {
     "data": {
      "text/html": [
       "<div>\n",
       "<style scoped>\n",
       "    .dataframe tbody tr th:only-of-type {\n",
       "        vertical-align: middle;\n",
       "    }\n",
       "\n",
       "    .dataframe tbody tr th {\n",
       "        vertical-align: top;\n",
       "    }\n",
       "\n",
       "    .dataframe thead th {\n",
       "        text-align: right;\n",
       "    }\n",
       "</style>\n",
       "<table border=\"1\" class=\"dataframe\">\n",
       "  <thead>\n",
       "    <tr style=\"text-align: right;\">\n",
       "      <th></th>\n",
       "      <th>$</th>\n",
       "      <th>a</th>\n",
       "      <th>b</th>\n",
       "      <th>n</th>\n",
       "    </tr>\n",
       "  </thead>\n",
       "  <tbody>\n",
       "    <tr>\n",
       "      <th>0</th>\n",
       "      <td>0</td>\n",
       "      <td>1</td>\n",
       "      <td>4</td>\n",
       "      <td>5</td>\n",
       "    </tr>\n",
       "  </tbody>\n",
       "</table>\n",
       "</div>"
      ],
      "text/plain": [
       "   $  a  b  n\n",
       "0  0  1  4  5"
      ]
     },
     "execution_count": 77,
     "metadata": {},
     "output_type": "execute_result"
    }
   ],
   "source": [
    "ofst #offset"
   ]
  },
  {
   "cell_type": "markdown",
   "metadata": {},
   "source": [
    "# Задание 2"
   ]
  },
  {
   "cell_type": "code",
   "execution_count": 78,
   "metadata": {},
   "outputs": [],
   "source": [
    "def findBTW(substr, fm_index, ofst):\n",
    "    h=len(fm_index)-1 \n",
    "    l=0   \n",
    "    \n",
    "    for i in range(len(substr)):\n",
    "        char=substr[-1-i]\n",
    "        h=ofst[char][0] + fm_index[char][h]   \n",
    "        l=ofst[char][0] + fm_index[char][l]    \n",
    "\n",
    "    return l, h"
   ]
  },
  {
   "cell_type": "code",
   "execution_count": 79,
   "metadata": {},
   "outputs": [],
   "source": [
    "fm_s, offset_s =FM_index(\"annb$aa\")"
   ]
  },
  {
   "cell_type": "code",
   "execution_count": 80,
   "metadata": {},
   "outputs": [
    {
     "name": "stdout",
     "output_type": "stream",
     "text": [
      "Searching for substring \"nana\" in BWT \"nn$bnbaaaaa\"\n",
      "Borders: (6, 7)\n",
      "Searching for substring\"ana\" in BWT \"nn$bnbaaaaa\"\n",
      "Borders: (2, 4)\n",
      "Searching for substring\"ban\" in BWT \"nn$bnbaaaaa\"\n",
      "Borders: (4, 5)\n",
      "Searching for substring\"ann\" in BWT \"nn$bnbaaaaa\"\n",
      "Borders: (4, 4)\n"
     ]
    }
   ],
   "source": [
    "sub=\"nana\"\n",
    "borders=findBTW(sub,fm_s, offset_s)\n",
    "print(\"Searching for substring \\\"{}\\\" in BWT \\\"{}\\\"\\nBorders: {}\".format(sub,s,borders))\n",
    "\n",
    "sub=\"ana\"\n",
    "\n",
    "borders=findBTW(sub,fm_s, offset_s)\n",
    "print(\"Searching for substring\\\"{}\\\" in BWT \\\"{}\\\"\\nBorders: {}\".format(sub,s,borders))\n",
    "\n",
    "sub=\"ban\"\n",
    "\n",
    "borders=findBTW(sub,fm_s, offset_s)\n",
    "print(\"Searching for substring\\\"{}\\\" in BWT \\\"{}\\\"\\nBorders: {}\".format(sub,s,borders))\n",
    "\n",
    "sub=\"ann\"\n",
    "\n",
    "borders=findBTW(sub,fm_s, offset_s)\n",
    "print(\"Searching for substring\\\"{}\\\" in BWT \\\"{}\\\"\\nBorders: {}\".format(sub,s,borders))"
   ]
  },
  {
   "cell_type": "markdown",
   "metadata": {},
   "source": [
    "# Задание 3"
   ]
  },
  {
   "cell_type": "code",
   "execution_count": 81,
   "metadata": {},
   "outputs": [],
   "source": [
    "def BWT(s):\n",
    "    suffixes=[]\n",
    "    \n",
    "    for i in range(len(s)):\n",
    "        suffixes.append(s[i:]+s[0:i])\n",
    "    \n",
    "    suffixes.sort()   \n",
    "    s_bwt=''.join(suffix[-1] for suffix in suffixes)\n",
    "    \n",
    "    return  s_bwt"
   ]
  },
  {
   "cell_type": "code",
   "execution_count": 82,
   "metadata": {},
   "outputs": [
    {
     "name": "stdout",
     "output_type": "stream",
     "text": [
      "Given string: ltherea$,\n",
      " BWT: aerht$el\n",
      "Given string: amnnn$lcpmnapaaaaaaala,\n",
      " BWT: npaaaaalaanla$panmnmac\n",
      "Given string: annb$aa,\n",
      " BWT: b$aanna\n",
      "Given string: nn$bnbaaaaa,\n",
      " BWT: nbaaaan$nba\n"
     ]
    }
   ],
   "source": [
    "#Checking BWT function\n",
    "s=\"ltherea$\"\n",
    "print(\"Given string: {},\\n BWT: {}\".format(s,BWT(s)))\n",
    "s=\"amnnn$lcpmnapaaaaaaala\"\n",
    "print(\"Given string: {},\\n BWT: {}\".format(s,BWT(s)))\n",
    "s=\"annb$aa\"\n",
    "print(\"Given string: {},\\n BWT: {}\".format(s,BWT(s)))\n",
    "s=\"nn$bnbaaaaa\"\n",
    "print(\"Given string: {},\\n BWT: {}\".format(s,BWT(s)))"
   ]
  },
  {
   "cell_type": "code",
   "execution_count": null,
   "metadata": {},
   "outputs": [],
   "source": []
  }
 ],
 "metadata": {
  "kernelspec": {
   "display_name": "Python 3",
   "language": "python",
   "name": "python3"
  },
  "language_info": {
   "codemirror_mode": {
    "name": "ipython",
    "version": 3
   },
   "file_extension": ".py",
   "mimetype": "text/x-python",
   "name": "python",
   "nbconvert_exporter": "python",
   "pygments_lexer": "ipython3",
   "version": "3.6.4"
  }
 },
 "nbformat": 4,
 "nbformat_minor": 4
}
