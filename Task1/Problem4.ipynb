{
 "cells": [
  {
   "cell_type": "raw",
   "metadata": {},
   "source": [
    "4. Сделать url запрос в GeneBank по идентификатору гена 7157, распарсить\n",
    "полученный файл, чтобы найти информацию: идентификатор в Uniprot\n",
    "кодируемого этим геном белка."
   ]
  },
  {
   "cell_type": "code",
   "execution_count": 2,
   "metadata": {},
   "outputs": [],
   "source": [
    "from Bio import Entrez\n",
    "Entrez.email = \"yauhenmardan@gmail.com\" \n",
    "handle = Entrez.efetch(db=\"gene\", id=\"7157\", retmode=\"xml\")\n",
    "record = Entrez.read(handle)\n",
    "# handle.close()"
   ]
  },
  {
   "cell_type": "code",
   "execution_count": 3,
   "metadata": {},
   "outputs": [
    {
     "name": "stdout",
     "output_type": "stream",
     "text": [
      "P04637\n"
     ]
    }
   ],
   "source": [
    "text=str(record)\n",
    "# print(record)\n",
    "i=text.find(\"UniProtKB/Swiss-Prot:\")+21\n",
    "print(text[i:i+6])"
   ]
  }
 ],
 "metadata": {
  "kernelspec": {
   "display_name": "Python 3",
   "language": "python",
   "name": "python3"
  },
  "language_info": {
   "codemirror_mode": {
    "name": "ipython",
    "version": 3
   },
   "file_extension": ".py",
   "mimetype": "text/x-python",
   "name": "python",
   "nbconvert_exporter": "python",
   "pygments_lexer": "ipython3",
   "version": "3.6.4"
  }
 },
 "nbformat": 4,
 "nbformat_minor": 4
}
