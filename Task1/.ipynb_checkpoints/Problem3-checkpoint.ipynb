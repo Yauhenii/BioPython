{
 "cells": [
  {
   "cell_type": "raw",
   "metadata": {},
   "source": [
    "3. Перевести ДНК последовательность в РНК, а потом в белок (файл dna.txt)"
   ]
  },
  {
   "cell_type": "code",
   "execution_count": 4,
   "metadata": {},
   "outputs": [
    {
     "name": "stdout",
     "output_type": "stream",
     "text": [
      "GGGATGGCAATAACCCCCCGTTTCTACTTCTAGAGGAGAAAAGTATTGACATGAGCGCTCCCGGCACAAGGGCCAAAGAAGTCTCCAATTTCTTATTTCCGAATGACATGCGTCTCCTTGCGGGTAAATCACCGACCGCAATTCATAGAAGCCTGGGGGAACAGATAGGTCTAATTAGCTTAAGAGAGTAAATCCTGGGATCATTCAGTAGTAACCATAAACTTACGCTGGGGCTTCTTCGGCGGATTTTTACAGTTACCAACCAGGAGATTTGAAGTAAATCAGTTGAGGATTTAGCCGCGCTATCCGGTAATCTCCAAATTAAAACATACCGTTCCATGAAGGCTAGAATTACTTACCGGCCTTTTCCATGCCTGCGCTATACCCCCCCACTCTCCCGCTTATCCGTCCGAGCGGAGGCAGTGCGATCCTCCGTTAAGATATTCTTACGTGTGACGTAGCTATGTATTTTGCAGAGCTGGCGAACGCGTTGAACACTTCACAGATGGTAGGGATTCGGGTAAAGGGCGTATAATTGGGGACTAACATAGGCGTAGACTACGATGGCGCCAACTCAATCGCAGCTCGAGCGCCCTGAATAACGTACTCATCTCAACTCATTCTCGGCAATCTACCGAGCGACTCGATTATCAACGGCTGTCTAGCAGTTCTAATCTTTTGCCAGCATCGTAATAGCCTCCAAGAGATTGATGATAGCTATCGGCACAGAACTGAGACGGCGCCGATGGATAGCGGACTTTCGGTCAACCACAATTCCCCACGGGACAGGTCCTGCGGTGCGCATCACTCTGAATGTACAAGCAACCCAAGTGGGCCGAGCCTGGACTCAGCTGGTTCCTGCGTGAGCTCGAGACTCGGGATGACAGCTCTTTAAACATAGAGCGGGGGCGTCGAACGGTCGAGAAAGTCATAGTACCTCGGGTACCAACTTACTCAGGTTATTGCTTGAAGCTGTACTATTTTAGGGGGGGAGCGCTGAAGGTCTCTTCTTCTCATGACTGAACTCGCGAGGGTCGTGAAGTCGGTTCCTTCAATGGTTAAAAAACAAAGGCTTACTGTGCGCAGAGGAACGCCCATCTAGCGGCTGGCGTCTTGAATGCTCGGTCCCCTTTGTCATTCCGGATTAATCCATTTCCCTCATTCACGAGCTTGCGAAGTCTACATTGGTATATGAATGCGACCTAGAAGAGGGCGCTTAAAATTGGCAGTGGTTGATGCTCTAAACTCCATTTGGTTTACTCGTGCATCACCGCGATAGGCTGACAAAGGTTTAACATTGAATAGCAAGGCACTTCCGGTCTCAATGAACGGCCGGGAAAGGTACGCGCGCGGTATGGGAGGATCAAGGGGCCAATAGAGAGGCTCCTCTCTCACTCGCTAGGAGGCAAATGTAAAACAATGGTTACTGCATCGATACATAAAACATGTCCATCGGTTGCCCAAAGTGTTAAGTGTCTATCACCCCTAGGGCCGTTTCCCGCATATAAACGCCAGGTTGTATCCGCATTTGATGCTACCGTGGATGAGTCTGCGTCGAGCGCGCCGCACGAATGTTGCAATGTATTGCATGAGTAGGGTTGACTAAGAGCCGTTAGATGCGTCGCTGTACTAATAGTTGTCGACAGACCGTCGAGATTAGAAAATGGTACCAGCATTTTCGGAGGTTCTCTAACTAGTATGGATTGCGGTGTCTTCACTGTGCTGCGGCTACCCATCGCCTGAAATCCAGCTGGTGTCAAGCCATCCCCTCTCCGGGACGCCGCATGTAGTGAAACATATACGTTGCACGGGTTCACCGCGGTCCGTTCTGAGTCGACCAAGGACACAATCGAGCTCCGATCCGTACCCTCGACAAACTTGTACCCGACCCCCGGAGCTTGCCAGCTCCTCGGGTATCATGGAGCCTGTGGTTCATCGCGTCCGATATCAAACTTCGTCATGATAAAGTCCCCCCCTCGGGAGTACCAGAGAAGATGACTACTGAGTTGTGCGAT\n",
      "\n"
     ]
    }
   ],
   "source": [
    "with open(\"dna.txt\") as file:\n",
    "    dna=file.read()\n",
    "    print(dna)"
   ]
  },
  {
   "cell_type": "code",
   "execution_count": 11,
   "metadata": {},
   "outputs": [
    {
     "name": "stdout",
     "output_type": "stream",
     "text": [
      "GGGAUGGCAAUAACCCCCCGUUUCUACUUCUAGAGGAGAAAAGUAUUGACAUGAGCGCUCCCGGCACAAGGGCCAAAGAAGUCUCCAAUUUCUUAUUUCCGAAUGACAUGCGUCUCCUUGCGGGUAAAUCACCGACCGCAAUUCAUAGAAGCCUGGGGGAACAGAUAGGUCUAAUUAGCUUAAGAGAGUAAAUCCUGGGAUCAUUCAGUAGUAACCAUAAACUUACGCUGGGGCUUCUUCGGCGGAUUUUUACAGUUACCAACCAGGAGAUUUGAAGUAAAUCAGUUGAGGAUUUAGCCGCGCUAUCCGGUAAUCUCCAAAUUAAAACAUACCGUUCCAUGAAGGCUAGAAUUACUUACCGGCCUUUUCCAUGCCUGCGCUAUACCCCCCCACUCUCCCGCUUAUCCGUCCGAGCGGAGGCAGUGCGAUCCUCCGUUAAGAUAUUCUUACGUGUGACGUAGCUAUGUAUUUUGCAGAGCUGGCGAACGCGUUGAACACUUCACAGAUGGUAGGGAUUCGGGUAAAGGGCGUAUAAUUGGGGACUAACAUAGGCGUAGACUACGAUGGCGCCAACUCAAUCGCAGCUCGAGCGCCCUGAAUAACGUACUCAUCUCAACUCAUUCUCGGCAAUCUACCGAGCGACUCGAUUAUCAACGGCUGUCUAGCAGUUCUAAUCUUUUGCCAGCAUCGUAAUAGCCUCCAAGAGAUUGAUGAUAGCUAUCGGCACAGAACUGAGACGGCGCCGAUGGAUAGCGGACUUUCGGUCAACCACAAUUCCCCACGGGACAGGUCCUGCGGUGCGCAUCACUCUGAAUGUACAAGCAACCCAAGUGGGCCGAGCCUGGACUCAGCUGGUUCCUGCGUGAGCUCGAGACUCGGGAUGACAGCUCUUUAAACAUAGAGCGGGGGCGUCGAACGGUCGAGAAAGUCAUAGUACCUCGGGUACCAACUUACUCAGGUUAUUGCUUGAAGCUGUACUAUUUUAGGGGGGGAGCGCUGAAGGUCUCUUCUUCUCAUGACUGAACUCGCGAGGGUCGUGAAGUCGGUUCCUUCAAUGGUUAAAAAACAAAGGCUUACUGUGCGCAGAGGAACGCCCAUCUAGCGGCUGGCGUCUUGAAUGCUCGGUCCCCUUUGUCAUUCCGGAUUAAUCCAUUUCCCUCAUUCACGAGCUUGCGAAGUCUACAUUGGUAUAUGAAUGCGACCUAGAAGAGGGCGCUUAAAAUUGGCAGUGGUUGAUGCUCUAAACUCCAUUUGGUUUACUCGUGCAUCACCGCGAUAGGCUGACAAAGGUUUAACAUUGAAUAGCAAGGCACUUCCGGUCUCAAUGAACGGCCGGGAAAGGUACGCGCGCGGUAUGGGAGGAUCAAGGGGCCAAUAGAGAGGCUCCUCUCUCACUCGCUAGGAGGCAAAUGUAAAACAAUGGUUACUGCAUCGAUACAUAAAACAUGUCCAUCGGUUGCCCAAAGUGUUAAGUGUCUAUCACCCCUAGGGCCGUUUCCCGCAUAUAAACGCCAGGUUGUAUCCGCAUUUGAUGCUACCGUGGAUGAGUCUGCGUCGAGCGCGCCGCACGAAUGUUGCAAUGUAUUGCAUGAGUAGGGUUGACUAAGAGCCGUUAGAUGCGUCGCUGUACUAAUAGUUGUCGACAGACCGUCGAGAUUAGAAAAUGGUACCAGCAUUUUCGGAGGUUCUCUAACUAGUAUGGAUUGCGGUGUCUUCACUGUGCUGCGGCUACCCAUCGCCUGAAAUCCAGCUGGUGUCAAGCCAUCCCCUCUCCGGGACGCCGCAUGUAGUGAAACAUAUACGUUGCACGGGUUCACCGCGGUCCGUUCUGAGUCGACCAAGGACACAAUCGAGCUCCGAUCCGUACCCUCGACAAACUUGUACCCGACCCCCGGAGCUUGCCAGCUCCUCGGGUAUCAUGGAGCCUGUGGUUCAUCGCGUCCGAUAUCAAACUUCGUCAUGAUAAAGUCCCCCCCUCGGGAGUACCAGAGAAGAUGACUACUGAGUUGUGCGAU\n",
      "\n"
     ]
    }
   ],
   "source": [
    "from Bio.Seq import Seq\n",
    "seq=Seq(dna)\n",
    "\n",
    "seq_RNA=seq.transcribe()\n",
    "print(seq_RNA)"
   ]
  },
  {
   "cell_type": "code",
   "execution_count": 12,
   "metadata": {},
   "outputs": [
    {
     "ename": "TranslationError",
     "evalue": "Codon 'AT\n' is invalid",
     "output_type": "error",
     "traceback": [
      "\u001b[0;31m---------------------------------------------------------------------------\u001b[0m",
      "\u001b[0;31mKeyError\u001b[0m                                  Traceback (most recent call last)",
      "\u001b[0;32m/Library/Frameworks/Python.framework/Versions/3.6/lib/python3.6/site-packages/Bio/Data/CodonTable.py\u001b[0m in \u001b[0;36m__getitem__\u001b[0;34m(self, codon)\u001b[0m\n\u001b[1;32m    423\u001b[0m                                               \u001b[0mself\u001b[0m\u001b[0;34m.\u001b[0m\u001b[0mforward_table\u001b[0m\u001b[0;34m,\u001b[0m\u001b[0;34m\u001b[0m\u001b[0m\n\u001b[0;32m--> 424\u001b[0;31m                                               self.ambiguous_nucleotide)\n\u001b[0m\u001b[1;32m    425\u001b[0m         \u001b[0;32mexcept\u001b[0m \u001b[0mKeyError\u001b[0m\u001b[0;34m:\u001b[0m\u001b[0;34m\u001b[0m\u001b[0m\n",
      "\u001b[0;32m/Library/Frameworks/Python.framework/Versions/3.6/lib/python3.6/site-packages/Bio/Data/CodonTable.py\u001b[0m in \u001b[0;36mlist_possible_proteins\u001b[0;34m(codon, forward_table, ambiguous_nucleotide_values)\u001b[0m\n\u001b[1;32m    240\u001b[0m     \u001b[0mx2\u001b[0m \u001b[0;34m=\u001b[0m \u001b[0mambiguous_nucleotide_values\u001b[0m\u001b[0;34m[\u001b[0m\u001b[0mc2\u001b[0m\u001b[0;34m]\u001b[0m\u001b[0;34m\u001b[0m\u001b[0m\n\u001b[0;32m--> 241\u001b[0;31m     \u001b[0mx3\u001b[0m \u001b[0;34m=\u001b[0m \u001b[0mambiguous_nucleotide_values\u001b[0m\u001b[0;34m[\u001b[0m\u001b[0mc3\u001b[0m\u001b[0;34m]\u001b[0m\u001b[0;34m\u001b[0m\u001b[0m\n\u001b[0m\u001b[1;32m    242\u001b[0m     \u001b[0mpossible\u001b[0m \u001b[0;34m=\u001b[0m \u001b[0;34m{\u001b[0m\u001b[0;34m}\u001b[0m\u001b[0;34m\u001b[0m\u001b[0m\n",
      "\u001b[0;31mKeyError\u001b[0m: '\\n'",
      "\nDuring handling of the above exception, another exception occurred:\n",
      "\u001b[0;31mKeyError\u001b[0m                                  Traceback (most recent call last)",
      "\u001b[0;32m/Library/Frameworks/Python.framework/Versions/3.6/lib/python3.6/site-packages/Bio/Seq.py\u001b[0m in \u001b[0;36m_translate_str\u001b[0;34m(sequence, table, stop_symbol, to_stop, cds, pos_stop, gap)\u001b[0m\n\u001b[1;32m   2869\u001b[0m         \u001b[0;32mtry\u001b[0m\u001b[0;34m:\u001b[0m\u001b[0;34m\u001b[0m\u001b[0m\n\u001b[0;32m-> 2870\u001b[0;31m             \u001b[0mamino_acids\u001b[0m\u001b[0;34m.\u001b[0m\u001b[0mappend\u001b[0m\u001b[0;34m(\u001b[0m\u001b[0mforward_table\u001b[0m\u001b[0;34m[\u001b[0m\u001b[0mcodon\u001b[0m\u001b[0;34m]\u001b[0m\u001b[0;34m)\u001b[0m\u001b[0;34m\u001b[0m\u001b[0m\n\u001b[0m\u001b[1;32m   2871\u001b[0m         \u001b[0;32mexcept\u001b[0m \u001b[0;34m(\u001b[0m\u001b[0mKeyError\u001b[0m\u001b[0;34m,\u001b[0m \u001b[0mCodonTable\u001b[0m\u001b[0;34m.\u001b[0m\u001b[0mTranslationError\u001b[0m\u001b[0;34m)\u001b[0m\u001b[0;34m:\u001b[0m\u001b[0;34m\u001b[0m\u001b[0m\n",
      "\u001b[0;32m/Library/Frameworks/Python.framework/Versions/3.6/lib/python3.6/site-packages/Bio/Data/CodonTable.py\u001b[0m in \u001b[0;36m__getitem__\u001b[0;34m(self, codon)\u001b[0m\n\u001b[1;32m    426\u001b[0m             \u001b[0mself\u001b[0m\u001b[0;34m.\u001b[0m\u001b[0m_cache\u001b[0m\u001b[0;34m[\u001b[0m\u001b[0mcodon\u001b[0m\u001b[0;34m]\u001b[0m \u001b[0;34m=\u001b[0m \u001b[0mKeyError\u001b[0m\u001b[0;34m\u001b[0m\u001b[0m\n\u001b[0;32m--> 427\u001b[0;31m             \u001b[0;32mraise\u001b[0m \u001b[0mKeyError\u001b[0m\u001b[0;34m(\u001b[0m\u001b[0mcodon\u001b[0m\u001b[0;34m)\u001b[0m  \u001b[0;31m# stop codon\u001b[0m\u001b[0;34m\u001b[0m\u001b[0m\n\u001b[0m\u001b[1;32m    428\u001b[0m         \u001b[0;32mexcept\u001b[0m \u001b[0mTranslationError\u001b[0m\u001b[0;34m:\u001b[0m\u001b[0;34m\u001b[0m\u001b[0m\n",
      "\u001b[0;31mKeyError\u001b[0m: 'AT\\n'",
      "\nDuring handling of the above exception, another exception occurred:\n",
      "\u001b[0;31mTranslationError\u001b[0m                          Traceback (most recent call last)",
      "\u001b[0;32m<ipython-input-12-c2b75ba2f6c0>\u001b[0m in \u001b[0;36m<module>\u001b[0;34m\u001b[0m\n\u001b[0;32m----> 1\u001b[0;31m \u001b[0mseq_protein\u001b[0m\u001b[0;34m=\u001b[0m\u001b[0mseq\u001b[0m\u001b[0;34m.\u001b[0m\u001b[0mtranslate\u001b[0m\u001b[0;34m(\u001b[0m\u001b[0;34m)\u001b[0m\u001b[0;34m\u001b[0m\u001b[0m\n\u001b[0m",
      "\u001b[0;32m/Library/Frameworks/Python.framework/Versions/3.6/lib/python3.6/site-packages/Bio/Seq.py\u001b[0m in \u001b[0;36mtranslate\u001b[0;34m(self, table, stop_symbol, to_stop, cds, gap)\u001b[0m\n\u001b[1;32m   1276\u001b[0m \u001b[0;34m\u001b[0m\u001b[0m\n\u001b[1;32m   1277\u001b[0m         protein = _translate_str(\n\u001b[0;32m-> 1278\u001b[0;31m             \u001b[0mstr\u001b[0m\u001b[0;34m(\u001b[0m\u001b[0mself\u001b[0m\u001b[0;34m)\u001b[0m\u001b[0;34m,\u001b[0m \u001b[0mcodon_table\u001b[0m\u001b[0;34m,\u001b[0m \u001b[0mstop_symbol\u001b[0m\u001b[0;34m,\u001b[0m \u001b[0mto_stop\u001b[0m\u001b[0;34m,\u001b[0m \u001b[0mcds\u001b[0m\u001b[0;34m,\u001b[0m \u001b[0mgap\u001b[0m\u001b[0;34m=\u001b[0m\u001b[0mgap\u001b[0m\u001b[0;34m\u001b[0m\u001b[0m\n\u001b[0m\u001b[1;32m   1279\u001b[0m         )\n\u001b[1;32m   1280\u001b[0m \u001b[0;34m\u001b[0m\u001b[0m\n",
      "\u001b[0;32m/Library/Frameworks/Python.framework/Versions/3.6/lib/python3.6/site-packages/Bio/Seq.py\u001b[0m in \u001b[0;36m_translate_str\u001b[0;34m(sequence, table, stop_symbol, to_stop, cds, pos_stop, gap)\u001b[0m\n\u001b[1;32m   2886\u001b[0m             \u001b[0;32melse\u001b[0m\u001b[0;34m:\u001b[0m\u001b[0;34m\u001b[0m\u001b[0m\n\u001b[1;32m   2887\u001b[0m                 raise CodonTable.TranslationError(\n\u001b[0;32m-> 2888\u001b[0;31m                     \u001b[0;34m\"Codon '{0}' is invalid\"\u001b[0m\u001b[0;34m.\u001b[0m\u001b[0mformat\u001b[0m\u001b[0;34m(\u001b[0m\u001b[0mcodon\u001b[0m\u001b[0;34m)\u001b[0m\u001b[0;34m\u001b[0m\u001b[0m\n\u001b[0m\u001b[1;32m   2889\u001b[0m                 )\n\u001b[1;32m   2890\u001b[0m     \u001b[0;32mreturn\u001b[0m \u001b[0;34m\"\"\u001b[0m\u001b[0;34m.\u001b[0m\u001b[0mjoin\u001b[0m\u001b[0;34m(\u001b[0m\u001b[0mamino_acids\u001b[0m\u001b[0;34m)\u001b[0m\u001b[0;34m\u001b[0m\u001b[0m\n",
      "\u001b[0;31mTranslationError\u001b[0m: Codon 'AT\n' is invalid"
     ]
    }
   ],
   "source": [
    "seq_protein=seq.translate()"
   ]
  },
  {
   "cell_type": "code",
   "execution_count": null,
   "metadata": {},
   "outputs": [],
   "source": []
  }
 ],
 "metadata": {
  "kernelspec": {
   "display_name": "Python 3",
   "language": "python",
   "name": "python3"
  },
  "language_info": {
   "codemirror_mode": {
    "name": "ipython",
    "version": 3
   },
   "file_extension": ".py",
   "mimetype": "text/x-python",
   "name": "python",
   "nbconvert_exporter": "python",
   "pygments_lexer": "ipython3",
   "version": "3.6.4"
  }
 },
 "nbformat": 4,
 "nbformat_minor": 4
}
