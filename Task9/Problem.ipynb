{
 "cells": [
  {
   "cell_type": "raw",
   "metadata": {},
   "source": [
    "Реализовать алгоритм Кнута–Морриса–Пратта и протестировать."
   ]
  },
  {
   "cell_type": "raw",
   "metadata": {},
   "source": [
    "Реализуем сначала префикс-функцию:"
   ]
  },
  {
   "cell_type": "code",
   "execution_count": 42,
   "metadata": {},
   "outputs": [],
   "source": [
    "def get_pref(string):\n",
    "    len_s=len(string)\n",
    "    p_s=[0]*len_s\n",
    "    \n",
    "    for i in range(1,len_s):\n",
    "        k=p_s[i-1]\n",
    "        while (k > 0) and (string[k] != string[i]):\n",
    "            k = p_s[k-1]\n",
    "        if string[i] == string[k]:\n",
    "            k = k + 1\n",
    "        p_s[i] = k\n",
    "    return p_s"
   ]
  },
  {
   "cell_type": "raw",
   "metadata": {},
   "source": [
    "Теперь реалзиуем сам алгоритм:"
   ]
  },
  {
   "cell_type": "code",
   "execution_count": 43,
   "metadata": {},
   "outputs": [],
   "source": [
    "def algo(string,text):\n",
    "    len_t=len(text)\n",
    "    len_s=len(string)\n",
    "    pref_arr = get_pref(string)\n",
    "    \n",
    "    j = -1\n",
    "    k = 0\n",
    "    for i in range(len_t):\n",
    "        while k > 0 and string[k] != text[i]:\n",
    "            k = pref_arr[k-1]\n",
    "        if text[i]==string[k]:\n",
    "            k = k + 1\n",
    "        if k == len_s:\n",
    "            j = i - len_s + 1\n",
    "            break\n",
    "            \n",
    "    return j"
   ]
  },
  {
   "cell_type": "raw",
   "metadata": {},
   "source": [
    "Протестируем:"
   ]
  },
  {
   "cell_type": "code",
   "execution_count": 44,
   "metadata": {},
   "outputs": [
    {
     "data": {
      "text/plain": [
       "5"
      ]
     },
     "execution_count": 44,
     "metadata": {},
     "output_type": "execute_result"
    }
   ],
   "source": [
    "algo(\"aa\",\"ababbaa\")"
   ]
  },
  {
   "cell_type": "code",
   "execution_count": 45,
   "metadata": {},
   "outputs": [
    {
     "data": {
      "text/plain": [
       "2"
      ]
     },
     "execution_count": 45,
     "metadata": {},
     "output_type": "execute_result"
    }
   ],
   "source": [
    "algo(\"aa\",\"bbaaaaaaa\")"
   ]
  },
  {
   "cell_type": "code",
   "execution_count": 46,
   "metadata": {},
   "outputs": [
    {
     "data": {
      "text/plain": [
       "8"
      ]
     },
     "execution_count": 46,
     "metadata": {},
     "output_type": "execute_result"
    }
   ],
   "source": [
    "algo(\"ar\",\"Oh, hi Mark\")"
   ]
  },
  {
   "cell_type": "code",
   "execution_count": 47,
   "metadata": {},
   "outputs": [
    {
     "data": {
      "text/plain": [
       "31"
      ]
     },
     "execution_count": 47,
     "metadata": {},
     "output_type": "execute_result"
    }
   ],
   "source": [
    "algo(\"CAT\",\"TACACTTTCTTAGCTCGTCGTACTGATGCTCCATTCAACAAGGTTGTCTTGAAGGCTTTGTTCTTGTCTAAGATCAACAGACCACCTGTTTCTGTCTCTAGAATTGCTAGAGCTTTGAAGCAAGAAGGTGCTGCTAACAAGACTGTTGTCGTTGTTGGTACTGTTACTGACGATGCCAGAATCTTTGAATCCCAAAGACCACTGTTGCTGCTTTGAGATTCACTGCTGGTGCCAGAGCCAAGATTGTTAAGGCTGGTGGTGAATGTATCA\")"
   ]
  },
  {
   "cell_type": "code",
   "execution_count": null,
   "metadata": {},
   "outputs": [],
   "source": []
  }
 ],
 "metadata": {
  "kernelspec": {
   "display_name": "Python 3",
   "language": "python",
   "name": "python3"
  },
  "language_info": {
   "codemirror_mode": {
    "name": "ipython",
    "version": 3
   },
   "file_extension": ".py",
   "mimetype": "text/x-python",
   "name": "python",
   "nbconvert_exporter": "python",
   "pygments_lexer": "ipython3",
   "version": "3.6.4"
  }
 },
 "nbformat": 4,
 "nbformat_minor": 4
}
