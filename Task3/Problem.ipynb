{
 "cells": [
  {
   "cell_type": "markdown",
   "metadata": {},
   "source": [
    "Модифицировать реализованный ранее алгоритм выравнивания в алгоритм для локального выравнивания (Ватермана-Смита). Алгоритм должен использовать матрицу замен BLOSUM и PAM - сравнить выравнивания с двумя различными матрицами. "
   ]
  },
  {
   "cell_type": "code",
   "execution_count": 39,
   "metadata": {},
   "outputs": [],
   "source": [
    "import numpy as np\n",
    "import Bio\n",
    "import Bio.SubsMat.MatrixInfo as subMat\n",
    "\n",
    "gap_fair=10\n",
    "\n",
    "def create_matrix(str1, str2, fair,sub_matrix):\n",
    "    \n",
    "    n=len(str2)+1\n",
    "    m=len(str1)+1\n",
    "    \n",
    "    matrix=np.zeros((n,m))\n",
    "    saved_path=np.zeros((n,m,2),dtype=np.int64)\n",
    "    \n",
    "    for i in range(1,n):\n",
    "        for j in range(1,m):\n",
    "            mutation_cost=sub_matrix.get((str2[i-1].upper(),str1[j-1].upper()))\n",
    "            if mutation_cost==None:\n",
    "                mutation_cost=sub_matrix.get((str1[j-1].upper(),str2[i-1].upper()))\n",
    "           \n",
    "            direction_dict={matrix[i-1,j-1]+mutation_cost : [i-1,j-1]}\n",
    "            \n",
    "            if direction_dict.get(matrix[i-1,j]-fair)==None:\n",
    "                direction_dict[matrix[i-1,j]-fair]=[i-1,j]\n",
    "            \n",
    "            if direction_dict.get(matrix[i-1,j]-fair)==None:\n",
    "                direction_dict[matrix[i-1,j]-fair]=[i-1,j]\n",
    "                \n",
    "            if direction_dict.get(matrix[i,j-1]-fair)==None:\n",
    "                direction_dict[matrix[i,j-1]-fair]=[i,j-1]\n",
    "            \n",
    "            if direction_dict.get(0)==None:\n",
    "                direction_dict[0]=[-1,-1]\n",
    "             \n",
    "            matrix[i,j]=np.max(list(direction_dict.keys()))\n",
    "            saved_path[i,j]=direction_dict[matrix[i,j]]\n",
    "\n",
    "    return matrix, saved_path\n",
    "\n",
    "def align(str1,str2,matrix,saved_path):\n",
    "    \n",
    "    n=matrix.shape[0]\n",
    "    m=matrix.shape[1]\n",
    "    \n",
    "    aligned_str1, aligned_str2 = \"\",\"\"\n",
    "    \n",
    "    i_max, j_max, max_value=0,0,0\n",
    "    \n",
    "    for i in range(n):\n",
    "        for j in range(m):\n",
    "            if matrix[i,j]>max_value:\n",
    "                max_value=matrix[i,j]\n",
    "                i_max=i\n",
    "                j_max=j\n",
    "    \n",
    "    i_cur,j_cur=i_max,j_max\n",
    "    i_next,j_next=saved_path[i_cur,j_cur]\n",
    "    \n",
    "    aligned_str1+=str1[-1:j_max-1:-1]\n",
    "    aligned_str2+=str2[-1:i_max-1:-1]\n",
    "    \n",
    "    while matrix[i_cur,j_cur]!=0: \n",
    "        if i_next==i_cur:\n",
    "            aligned_str1+=str1[j_cur-1]\n",
    "            aligned_str2+='-'\n",
    "        \n",
    "        if j_next==j_cur:\n",
    "            aligned_str1+='-'\n",
    "            aligned_str2+=str2[i_cur-1]\n",
    "        \n",
    "        if i_next!=i_cur and j_next!=j_cur:\n",
    "            aligned_str1+=str1[j_cur-1]\n",
    "            aligned_str2+=str2[i_cur-1]\n",
    "            \n",
    "        i_cur, j_cur=i_next,j_next\n",
    "        i_next, j_next=saved_path[i_cur,j_cur]\n",
    "        \n",
    "    aligned_len=len(aligned_str2)-len(str2[-1:i_max-1:-1])\n",
    "    aligned_str1+=str1[(0 if j_cur-1<0 else j_cur-1):(0 if j_cur-1<0 else None):-1]\n",
    "    aligned_str2+=str2[(0 if i_cur-1<0 else i_cur-1):(0 if i_cur-1<0 else None):-1]\n",
    "    \n",
    "    indent=len(str2[0:i_cur])-len(str1[0:j_cur])\n",
    "    unaligned_len=min(len(str2[0:i_cur]),len(str1[0:j_cur]))\n",
    "\n",
    "    return aligned_str1[::-1],aligned_str2[::-1],max_value,indent,unaligned_len,aligned_len"
   ]
  },
  {
   "cell_type": "code",
   "execution_count": 40,
   "metadata": {},
   "outputs": [],
   "source": [
    "def smith_waterman(str1,str2,fair,sub_matrix):\n",
    "    \n",
    "    matrix,saved_path = create_matrix(str1,str2,fair,sub_matrix)\n",
    "    aligned_str1,aligned_str2,score,indent,unaligned_len,aligned_len = align(str1,str2,matrix,saved_path)\n",
    "    \n",
    "    return aligned_str1,aligned_str2,score,indent,unaligned_len,aligned_len\n",
    "\n",
    "def do_algorithm(str1,str2,fair,sub_matrix):\n",
    "    align1,align2,score,indent,unaligned_len,aligned_len=smith_waterman(str1,str2,fair,sub_matrix)\n",
    "    \n",
    "    indent_str1=\"\"\n",
    "    indent_str2=\"\"\n",
    "    print(\"Chain 1: \",indent_str1,str1)\n",
    "    print(\"Chain 2: \",indent_str2,str2)\n",
    "    print(\"Score: \",score)\n",
    "    \n",
    "    if indent>=0:\n",
    "        indent_str1+=\" \"*indent\n",
    "    else:\n",
    "        indent_str2+=\" \"*abs(indent)\n",
    "        \n",
    "    print(\"Align 1: \",indent_str1,align1)\n",
    "    \n",
    "    #10 spaces for phrase \"Align 1: \"\n",
    "    separator=\" \"*11\n",
    "    separator+=\" \"*(abs(indent)+unaligned_len)\n",
    "\n",
    "    for i in range(abs(indent)+unaligned_len, abs(indent)+unaligned_len+aligned_len):\n",
    "        if align1[i-(indent if indent>0 else 0)]==align2[i -(abs(indent) if indent<0 else 0)]:\n",
    "            separator+='|'\n",
    "        else:\n",
    "            separator+='.'\n",
    "    \n",
    "    print(separator)\n",
    "    print(\"Align 2: \",indent_str2,align2)"
   ]
  },
  {
   "attachments": {
    "photo_2020-03-25%2017.58.35.jpeg": {
     "image/jpeg": "[encoded data removed]"
    }
   },
   "cell_type": "markdown",
   "metadata": {},
   "source": [
    "![photo_2020-03-25%2017.58.35.jpeg](attachment:photo_2020-03-25%2017.58.35.jpeg)"
   ]
  },
  {
   "cell_type": "markdown",
   "metadata": {},
   "source": [
    "BLOSUM62"
   ]
  },
  {
   "cell_type": "code",
   "execution_count": 35,
   "metadata": {},
   "outputs": [
    {
     "name": "stdout",
     "output_type": "stream",
     "text": [
      "Chain 1:   ACGTCATCA\n",
      "Chain 2:   TAGTGTCA\n",
      "Score:  24.0\n",
      "Align 1:     ACGTCATCA\n",
      "               ||||\n",
      "Align 2:   TAGTGTCA\n"
     ]
    }
   ],
   "source": [
    "str1=\"ACGTCATCA\"\n",
    "str2=\"TAGTGTCA\"\n",
    "do_algorithm(str1,str2, gap_fair,subMat.blosum62)"
   ]
  },
  {
   "cell_type": "code",
   "execution_count": 36,
   "metadata": {},
   "outputs": [
    {
     "name": "stdout",
     "output_type": "stream",
     "text": [
      "Chain 1:   GAAATGAA\n",
      "Chain 2:   GACTAGGA\n",
      "Score:  20.0\n",
      "Align 1:   GAAATGAA\n",
      "           ||...|.|\n",
      "Align 2:   GACTAGGA\n"
     ]
    }
   ],
   "source": [
    "str1=\"GAAATGAA\"\n",
    "str2=\"GACTAGGA\"\n",
    "do_algorithm(str1,str2, gap_fair,subMat.blosum62)"
   ]
  },
  {
   "cell_type": "markdown",
   "metadata": {},
   "source": [
    "PAM"
   ]
  },
  {
   "cell_type": "code",
   "execution_count": 37,
   "metadata": {},
   "outputs": [
    {
     "name": "stdout",
     "output_type": "stream",
     "text": [
      "Chain 1:   ACGTCATCA\n",
      "Chain 2:   TAGTGTCA\n",
      "Score:  26.0\n",
      "Align 1:     ACGTCATCA\n",
      "               ||||\n",
      "Align 2:   TAGTGTCA\n"
     ]
    }
   ],
   "source": [
    "str1=\"ACGTCATCA\"\n",
    "str2=\"TAGTGTCA\"\n",
    "do_algorithm(str1,str2, gap_fair,subMat.pam60)"
   ]
  },
  {
   "cell_type": "code",
   "execution_count": 38,
   "metadata": {},
   "outputs": [
    {
     "name": "stdout",
     "output_type": "stream",
     "text": [
      "Chain 1:   GAAATGAA\n",
      "Chain 2:   GACTAGGA\n",
      "Score:  19.0\n",
      "Align 1:   GAAATGAA\n",
      "           ||...|.|\n",
      "Align 2:   GACTAGGA\n"
     ]
    }
   ],
   "source": [
    "str1=\"GAAATGAA\"\n",
    "str2=\"GACTAGGA\"\n",
    "do_algorithm(str1,str2, gap_fair,subMat.pam60)"
   ]
  },
  {
   "cell_type": "markdown",
   "metadata": {},
   "source": [
    "МНОЖЕСТВЕННОЕ ВЫРАВНИВАНИЕ"
   ]
  },
  {
   "cell_type": "code",
   "execution_count": 14,
   "metadata": {},
   "outputs": [
    {
     "name": "stdout",
     "output_type": "stream",
     "text": [
      "SingleLetterAlphabet() alignment with 2 rows and 338 columns\n",
      "MFQAFPGDYDSGSRCSSSPSAESQYLSSVDSFGSPPTAAASQEC...LAL FOSB_MOUSE\n",
      "MFQAFPGDYDSGSRCSSSPSAESQYLSSVDSFGSPPTAAASQEC...LAL FOSB_HUMAN\n"
     ]
    }
   ],
   "source": [
    "from Bio import AlignIO\n",
    "align = AlignIO.read(\"input.txt\", \"clustal\")\n",
    "print(align)"
   ]
  },
  {
   "cell_type": "code",
   "execution_count": null,
   "metadata": {},
   "outputs": [],
   "source": []
  }
 ],
 "metadata": {
  "kernelspec": {
   "display_name": "Python 3",
   "language": "python",
   "name": "python3"
  },
  "language_info": {
   "codemirror_mode": {
    "name": "ipython",
    "version": 3
   },
   "file_extension": ".py",
   "mimetype": "text/x-python",
   "name": "python",
   "nbconvert_exporter": "python",
   "pygments_lexer": "ipython3",
   "version": "3.6.4"
  }
 },
 "nbformat": 4,
 "nbformat_minor": 4
}
