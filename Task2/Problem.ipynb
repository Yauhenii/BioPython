{
 "cells": [
  {
   "cell_type": "markdown",
   "metadata": {},
   "source": [
    "ТЕОРИЯ"
   ]
  },
  {
   "cell_type": "markdown",
   "metadata": {},
   "source": [
    "1 Соревнование"
   ]
  },
  {
   "cell_type": "markdown",
   "metadata": {},
   "source": [
    "Получается нам дана первичная структура белка - линейная последовательность a1..an аминокислотных остатков в молекуле белка. Нужно получить третичную - расположение элементов вторичной структуры (альфа-спиралей и бета- слоев) в пространстве относительно один другого. \n",
    "Таким образом из первичной струткуры сначала нужно получить вторичную, а из нее уже третичную. \n",
    "\n",
    "Существующие техники изучения третичной структуры белка — пространственной укладки изгибов, листов и спиралей аминокислотной цепи — проблематичны. Методы разрешения топологии белка включают электронную микроскопию, рентгеноструктурный анализ и ядерную магнитно-резонансную спектроскопию. Чтобы применять их, необходим кристаллизованный белок, замороженный белок, химически обработанный белок или радиоактивно меченный белок соответственно. К тому же сложность процесса подготовки образца усугубляется высокой стоимостью методов.\n",
    "\n",
    "Я, как начальник лаборатории, нашел решение в применении искусственного интеллекта, так как вышуепомятнутые методы затруднительны. В 2018 году Google DeepMind представила алгоритм AlphaFold, который обошел предшественников по эффективности. На основе последовательности аминокислот нейросеть:\n",
    "\n",
    "1) Предсказывает расстояния между всеми парами аминокислотных остатков \n",
    "\n",
    "2) Предсказывает углы между связями, соединяющими аминокислоты.\n",
    "\n",
    "К тому же алгоритм самостоятельно оценивает точность своих расчетов.\n"
   ]
  },
  {
   "cell_type": "raw",
   "metadata": {},
   "source": [
    "2 Найти гены"
   ]
  },
  {
   "cell_type": "raw",
   "metadata": {},
   "source": [
    "Реализовать алгоритм глобального выравнивания Нидлмана-Вунша. Протестировать на двух случаях: когда последовательности белков гомологичны (схожи по последовательности), когда последовательности не являются схожими. "
   ]
  },
  {
   "cell_type": "code",
   "execution_count": 1,
   "metadata": {},
   "outputs": [],
   "source": [
    "from numpy import *\n",
    "\n",
    "def algorithm(ch1, ch2):\n",
    "    n=len(ch1)+1\n",
    "    k=len(ch2)+1\n",
    "    m=[[0 for j in range (k)] for i in range(n)]\n",
    "    for i in range(n):\n",
    "        m[i][0]=i\n",
    "    for j in range(k):\n",
    "        m[0][j]=j\n",
    "    for i in range(1,n):\n",
    "        for j in range(1,k):\n",
    "            m[i][j]=min(m[i-1][j-1]+ (1 if ch1[i-1]!=ch2[j-1] else 0),m[i][j-1]+1,m[i-1][j]+1)\n",
    "    print(reshape(m,(n,k)))\n",
    "    print(\"Wage is \", m[n-1][k-1])\n",
    "    \n",
    "    i=n-1\n",
    "    j=k-1\n",
    "    \n",
    "    resch1=\"\"\n",
    "    resch2=\"\"\n",
    "    while i!=0 or j!=0:\n",
    "        if m[i-1][j-1]<=m[i-1][j] and m[i-1][j-1]<=m[i][j-1]:\n",
    "            resch1=ch1[i-1]+resch1\n",
    "            resch2=ch2[j-1]+resch2\n",
    "            i-=1\n",
    "            j-=1\n",
    "        elif m[i-1][j]<=m[i-1][j-1] and m[i-1][j]<=m[i][j-1]:\n",
    "            resch1=ch1[i-1]+resch1\n",
    "            resch2=\"-\"+resch2\n",
    "            i-=1\n",
    "        else:\n",
    "            resch1=\"-\"+resch1\n",
    "            resch2=ch2[j-1]+resch2\n",
    "            j-=1\n",
    "    print(resch1)\n",
    "    print(resch2)"
   ]
  },
  {
   "cell_type": "raw",
   "metadata": {},
   "source": [
    "Последовательность с лекции"
   ]
  },
  {
   "cell_type": "code",
   "execution_count": 2,
   "metadata": {},
   "outputs": [
    {
     "name": "stdout",
     "output_type": "stream",
     "text": [
      "[[0 1 2 3 4 5 6 7 8]\n",
      " [1 0 1 2 3 4 5 6 7]\n",
      " [2 1 0 1 2 3 4 5 6]\n",
      " [3 2 1 0 1 2 3 4 5]\n",
      " [4 3 2 1 1 1 2 3 4]\n",
      " [5 4 3 2 1 2 1 2 3]\n",
      " [6 5 4 3 2 2 2 2 3]\n",
      " [7 6 5 4 3 3 3 3 2]\n",
      " [8 7 6 5 4 4 4 4 3]]\n",
      "Wage is  3\n",
      "CCA-AGGCT\n",
      "CCAGAGAC-\n"
     ]
    }
   ],
   "source": [
    "chain1=\"CCAAGGCT\"\n",
    "chain2=\"CCAGAGAC\"\n",
    "algorithm(chain1,chain2)"
   ]
  },
  {
   "cell_type": "raw",
   "metadata": {},
   "source": [
    "Одинаковые последовательности "
   ]
  },
  {
   "cell_type": "code",
   "execution_count": 3,
   "metadata": {},
   "outputs": [
    {
     "name": "stdout",
     "output_type": "stream",
     "text": [
      "[[0 1 2 3 4 5 6 7 8]\n",
      " [1 0 1 2 3 4 5 6 7]\n",
      " [2 1 0 1 2 3 4 5 6]\n",
      " [3 2 1 0 1 2 3 4 5]\n",
      " [4 3 2 1 0 1 2 3 4]\n",
      " [5 4 3 2 1 0 1 2 3]\n",
      " [6 5 4 3 2 1 0 1 2]\n",
      " [7 6 5 4 3 2 1 0 1]\n",
      " [8 7 6 5 4 3 2 1 0]]\n",
      "Wage is  0\n",
      "CCAAGGCT\n",
      "CCAAGGCT\n"
     ]
    }
   ],
   "source": [
    "chain1=\"CCAAGGCT\"\n",
    "chain2=\"CCAAGGCT\"\n",
    "algorithm(chain1,chain2)"
   ]
  },
  {
   "cell_type": "markdown",
   "metadata": {},
   "source": [
    "Последовательности гомологичны"
   ]
  },
  {
   "cell_type": "code",
   "execution_count": 4,
   "metadata": {},
   "outputs": [
    {
     "name": "stdout",
     "output_type": "stream",
     "text": [
      "[[0 1 2 3 4 5 6]\n",
      " [1 0 1 2 3 4 5]\n",
      " [2 1 0 1 2 3 4]\n",
      " [3 2 1 0 1 2 3]\n",
      " [4 3 2 1 0 1 2]\n",
      " [5 4 3 2 1 0 1]\n",
      " [6 5 4 3 2 1 1]]\n",
      "Wage is  1\n",
      "AAAGCA\n",
      "AAAGCC\n"
     ]
    }
   ],
   "source": [
    "chain1=\"AAAGCA\"\n",
    "chain2=\"AAAGCC\"\n",
    "algorithm(chain1,chain2)"
   ]
  },
  {
   "cell_type": "markdown",
   "metadata": {},
   "source": [
    "Последовательности не схожи разной длины"
   ]
  },
  {
   "cell_type": "code",
   "execution_count": 5,
   "metadata": {},
   "outputs": [
    {
     "name": "stdout",
     "output_type": "stream",
     "text": [
      "[[0 1 2 3 4 5 6 7 8]\n",
      " [1 1 1 2 3 4 5 6 7]\n",
      " [2 2 1 2 3 3 4 5 6]\n",
      " [3 3 2 2 3 3 4 5 5]]\n",
      "Wage is  5\n",
      "-A--A--A\n",
      "GACTAGGA\n"
     ]
    }
   ],
   "source": [
    "chain1=\"AAA\"\n",
    "chain2=\"GACTAGGA\"\n",
    "algorithm(chain1,chain2)"
   ]
  },
  {
   "cell_type": "raw",
   "metadata": {},
   "source": [
    "Последовательности одинаковой длины"
   ]
  },
  {
   "cell_type": "code",
   "execution_count": 6,
   "metadata": {},
   "outputs": [
    {
     "name": "stdout",
     "output_type": "stream",
     "text": [
      "[[0 1 2 3 4 5 6 7 8]\n",
      " [1 0 1 2 3 4 5 6 7]\n",
      " [2 1 0 1 2 3 4 5 6]\n",
      " [3 2 1 1 2 2 3 4 5]\n",
      " [4 3 2 2 2 2 3 4 4]\n",
      " [5 4 3 3 2 3 3 4 5]\n",
      " [6 5 4 4 3 3 3 3 4]\n",
      " [7 6 5 5 4 3 4 4 3]\n",
      " [8 7 6 6 5 4 4 5 4]]\n",
      "Wage is  4\n",
      "GA-AATGAA\n",
      "GACTAGGA-\n"
     ]
    }
   ],
   "source": [
    "chain1=\"GAAATGAA\"\n",
    "chain2=\"GACTAGGA\"\n",
    "algorithm(chain1,chain2)"
   ]
  },
  {
   "cell_type": "code",
   "execution_count": null,
   "metadata": {},
   "outputs": [],
   "source": []
  }
 ],
 "metadata": {
  "kernelspec": {
   "display_name": "Python 3",
   "language": "python",
   "name": "python3"
  },
  "language_info": {
   "codemirror_mode": {
    "name": "ipython",
    "version": 3
   },
   "file_extension": ".py",
   "mimetype": "text/x-python",
   "name": "python",
   "nbconvert_exporter": "python",
   "pygments_lexer": "ipython3",
   "version": "3.6.4"
  }
 },
 "nbformat": 4,
 "nbformat_minor": 4
}
