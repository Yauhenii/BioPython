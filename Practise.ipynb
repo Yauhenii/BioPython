{
 "cells": [
  {
   "cell_type": "raw",
   "metadata": {},
   "source": [
    "Biopython является коллекцией модулей которые реализуют\n",
    "и облегчают решение общих задач биоиформатики:\n",
    "\n",
    "1. Reading/writing последовательностей (sequences)\n",
    "2. Доступ к информации множественных выравниваний\n",
    "3. Парсинг результатов поиска BLAST\n",
    "4. Доступ к биологическим базам данных\n",
    "5. Разрезание последовательностей с использованием\n",
    "рестриктаз\n",
    "\n",
    "Функциональность biopython реализуется посредством модулей,\n",
    "которые имеют общее пространство имен (namespace) Bio,\n",
    "например\n",
    "\n",
    "● Bio.SeqIO : sequence input / output\n",
    "● Bio.AlignIO : alignment input / output\n",
    "● Bio.Blast : BLAST searches\n",
    "● Bio.Restriction : restriction enzymes\n",
    "● Bio.Entrez : NCBI search\n",
    "● many more...\n",
    "\n",
    "BioPython содержит алфавиты для объявления типа\n",
    "последовательности такой как ДНК или аминокислотная."
   ]
  },
  {
   "cell_type": "code",
   "execution_count": 1,
   "metadata": {},
   "outputs": [
    {
     "name": "stdout",
     "output_type": "stream",
     "text": [
      "['Ala', 'Asx', 'Cys', 'Asp', 'Glu', 'Phe', 'Gly', 'His', 'Ile', 'Lys', 'Leu', 'Met', 'Asn', 'Pro', 'Gln', 'Arg', 'Ser', 'Thr', 'Sec', 'Val', 'Trp', 'Xaa', 'Tyr', 'Glx']\n"
     ]
    }
   ],
   "source": [
    "from Bio import Alphabet\n",
    "print(Alphabet.ThreeLetterProtein.letters)"
   ]
  },
  {
   "cell_type": "code",
   "execution_count": 2,
   "metadata": {},
   "outputs": [
    {
     "name": "stdout",
     "output_type": "stream",
     "text": [
      "ACDEFGHIKLMNPQRSTVWY\n"
     ]
    }
   ],
   "source": [
    "from Bio.Alphabet import IUPAC\n",
    "print(IUPAC.IUPACProtein.letters)"
   ]
  },
  {
   "cell_type": "code",
   "execution_count": 3,
   "metadata": {},
   "outputs": [
    {
     "name": "stdout",
     "output_type": "stream",
     "text": [
      "GATC\n"
     ]
    }
   ],
   "source": [
    "print(IUPAC.unambiguous_dna.letters)"
   ]
  },
  {
   "cell_type": "raw",
   "metadata": {},
   "source": [
    "ДНК/аминокислотные последовательности хранятся как объекты\n",
    "Seq:\n",
    "Если необходимо вы можете определить буквенный алфавит:"
   ]
  },
  {
   "cell_type": "code",
   "execution_count": 4,
   "metadata": {},
   "outputs": [
    {
     "name": "stdout",
     "output_type": "stream",
     "text": [
      "ATCG\n"
     ]
    }
   ],
   "source": [
    "from Bio.Seq import Seq\n",
    "sequence = Seq(\"ATCG\")\n",
    "print (sequence)"
   ]
  },
  {
   "cell_type": "code",
   "execution_count": 5,
   "metadata": {},
   "outputs": [
    {
     "name": "stdout",
     "output_type": "stream",
     "text": [
      "ATCG\n",
      "MLYAPG\n",
      "GATTACA\n"
     ]
    }
   ],
   "source": [
    "from Bio.Alphabet import IUPAC\n",
    "dna_seq = Seq(\"ATCG\", IUPAC.unambiguous_dna)\n",
    "print(dna_seq)\n",
    "protein_seq = Seq(\"MLYAPG\", IUPAC.protein)\n",
    "print(protein_seq)\n",
    "sequence = Seq(\"GATTACA\")\n",
    "print(sequence)"
   ]
  },
  {
   "cell_type": "raw",
   "metadata": {},
   "source": [
    "Seq класс имеет ряд методов для работы с\n",
    "последовательностями, схожие с обычными объектами string\n",
    "Python\n",
    "\n",
    "Получить длину объекта:                       len(sequence)\n",
    "Посчитать частоту встречаемости               sequence.count(\"T\")\n",
    "Проверить префикс                             sequence.startswith(\"ATG\")\n",
    "Извлечь подпоследовательность                 sequence[3:7]\n",
    "Поиск подпоследовательности                   sequence.find(\"TAC\")\n",
    "Изменить регистр букв                         sequence.lower()\n",
    "Разбить последовательность                    sequence.split(\"TAG\")"
   ]
  },
  {
   "cell_type": "raw",
   "metadata": {},
   "source": [
    "Следующие методы характерны для Seq объектов:\n",
    "● получить reverse complement:\n",
    "● конвертировать DNA to RNA:\n",
    "● конвертировать DNA to protein:"
   ]
  },
  {
   "cell_type": "code",
   "execution_count": 6,
   "metadata": {},
   "outputs": [
    {
     "data": {
      "text/plain": [
       "Seq('TGTAATC')"
      ]
     },
     "execution_count": 6,
     "metadata": {},
     "output_type": "execute_result"
    }
   ],
   "source": [
    "sequence.reverse_complement()"
   ]
  },
  {
   "cell_type": "code",
   "execution_count": 7,
   "metadata": {},
   "outputs": [
    {
     "data": {
      "text/plain": [
       "Seq('GAUUACA', RNAAlphabet())"
      ]
     },
     "execution_count": 7,
     "metadata": {},
     "output_type": "execute_result"
    }
   ],
   "source": [
    "sequence.transcribe()"
   ]
  },
  {
   "cell_type": "code",
   "execution_count": 8,
   "metadata": {},
   "outputs": [
    {
     "name": "stderr",
     "output_type": "stream",
     "text": [
      "/Library/Frameworks/Python.framework/Versions/3.6/lib/python3.6/site-packages/Bio/Seq.py:2859: BiopythonWarning: Partial codon, len(sequence) not a multiple of three. Explicitly trim the sequence or add trailing N before translation. This may become an error in future.\n",
      "  BiopythonWarning,\n"
     ]
    },
    {
     "data": {
      "text/plain": [
       "Seq('DY', ExtendedIUPACProtein())"
      ]
     },
     "execution_count": 8,
     "metadata": {},
     "output_type": "execute_result"
    }
   ],
   "source": [
    "sequence.translate()"
   ]
  },
  {
   "cell_type": "code",
   "execution_count": null,
   "metadata": {},
   "outputs": [],
   "source": []
  }
 ],
 "metadata": {
  "kernelspec": {
   "display_name": "Python 3",
   "language": "python",
   "name": "python3"
  },
  "language_info": {
   "codemirror_mode": {
    "name": "ipython",
    "version": 3
   },
   "file_extension": ".py",
   "mimetype": "text/x-python",
   "name": "python",
   "nbconvert_exporter": "python",
   "pygments_lexer": "ipython3",
   "version": "3.6.4"
  }
 },
 "nbformat": 4,
 "nbformat_minor": 4
}
